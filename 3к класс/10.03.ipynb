{
  "nbformat": 4,
  "nbformat_minor": 0,
  "metadata": {
    "colab": {
      "name": "Untitled0.ipynb",
      "provenance": [],
      "authorship_tag": "ABX9TyMYhuyWmSACgIRS6day0Tkk",
      "include_colab_link": true
    },
    "kernelspec": {
      "name": "python3",
      "display_name": "Python 3"
    }
  },
  "cells": [
    {
      "cell_type": "markdown",
      "metadata": {
        "id": "view-in-github",
        "colab_type": "text"
      },
      "source": [
        "<a href=\"https://colab.research.google.com/github/sasha110110/574-/blob/main/3%D0%BA%20%D0%BA%D0%BB%D0%B0%D1%81%D1%81/10.03.ipynb\" target=\"_parent\"><img src=\"https://colab.research.google.com/assets/colab-badge.svg\" alt=\"Open In Colab\"/></a>"
      ]
    },
    {
      "cell_type": "markdown",
      "metadata": {
        "id": "ZK6L2cZNj7nV"
      },
      "source": [
        "Так... Ребятки. Выходные бооольшие. Учим и готовим слова на диктант. Оценки выставлю потом здесь + оценки за прошлые диктанты. \r\n",
        "\r\n",
        "Проверяем ответы на ДЗ. И этои будут фразы на диктант. Если кажется, что все запомнили, проверьте себя еще раз - все закройте и пропишите, аккуратно с иероглифами - по порядку черт. \r\n",
        "\r\n",
        "Итак, проверяем и учим. \r\n",
        "* -Сколько стоит рис? 米饭 多少钱？mi3fan4 duo1shao3 qian2\r\n",
        "Сначала: что + сколько стоит. Заодно повторим некоторые продукты. Лапша, чай, молоко, помним как будет? Можно просто, как произносится, во время диктанта я напишу на доске. \r\n",
        "\r\n",
        "* -10 рублей 十块钱　shi2 kuai4 qian2 Буквально - 10 рублей денег \r\n",
        "* - Сколько стоит рыба? 鱼多少钱\r\n",
        " Моя кошка очень любит рыбу.我的猫很喜欢吃鱼\r\n",
        "* - Рыба стоит очень много. 鱼很多钱　hen3duo1 qian2 очень много денег\r\n",
        "* **Особенно учим:**\r\n",
        "* 多少 duo1shao3 сколько \r\n",
        "* 钱 qian2 деньги \r\n",
        "* 一（两， 三，十）块 kuai4 "
      ]
    }
  ]
}