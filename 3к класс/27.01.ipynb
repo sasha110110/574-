{
  "nbformat": 4,
  "nbformat_minor": 0,
  "metadata": {
    "colab": {
      "name": "21",
      "provenance": [],
      "authorship_tag": "ABX9TyMgyhAKIUxEqhuw84l1lfzf",
      "include_colab_link": true
    },
    "kernelspec": {
      "name": "python3",
      "display_name": "Python 3"
    }
  },
  "cells": [
    {
      "cell_type": "markdown",
      "metadata": {
        "id": "view-in-github",
        "colab_type": "text"
      },
      "source": [
        "<a href=\"https://colab.research.google.com/github/sasha110110/574-/blob/main/3%D0%BA%20%D0%BA%D0%BB%D0%B0%D1%81%D1%81/27.01.ipynb\" target=\"_parent\"><img src=\"https://colab.research.google.com/assets/colab-badge.svg\" alt=\"Open In Colab\"/></a>"
      ]
    },
    {
      "cell_type": "markdown",
      "metadata": {
        "id": "1HQAky69lIJv"
      },
      "source": [
        "https://www.youtube.com/watch?v=Qcv9YZ2cv8g\r\n",
        "\r\n",
        "**Это песня)))))**\r\n",
        "\r\n",
        "\r\n",
        "\r\n"
      ]
    },
    {
      "cell_type": "markdown",
      "metadata": {
        "id": "0AbnBMEERmmO"
      },
      "source": [
        "некторые слова \r\n",
        "кто не успел списать с доски\r\n",
        "\r\n",
        "\r\n",
        "\r\n",
        "*   米饭 mi3fan4 рис\r\n",
        "*   包子 bao1zi пампушки (большие булочки на пару)\r\n",
        "*   饺子 jiao3zi  пельмени\r\n",
        "*   面条 mian4tiao2  лапша (макароны и иже с ними)\r\n",
        "\r\n"
      ]
    },
    {
      "cell_type": "markdown",
      "metadata": {
        "id": "OQifWq7aSxHU"
      },
      "source": [
        "учим в тонах\r\n",
        "мои сладкие умняшки, это не моя прихоть, тон - это часть слова. как наши буквы. \r\n",
        "\r\n",
        "\r\n",
        "\r\n",
        "и еще немного упражнени в тетради - с. 24 - упр. 1 и 2 и с. 26 - упр. 5"
      ]
    }
  ]
}