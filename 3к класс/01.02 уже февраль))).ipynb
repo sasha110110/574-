{
  "nbformat": 4,
  "nbformat_minor": 0,
  "metadata": {
    "colab": {
      "name": "21",
      "provenance": [],
      "authorship_tag": "ABX9TyMTWtdG2tpQF80tz2h35lqs",
      "include_colab_link": true
    },
    "kernelspec": {
      "name": "python3",
      "display_name": "Python 3"
    }
  },
  "cells": [
    {
      "cell_type": "markdown",
      "metadata": {
        "id": "view-in-github",
        "colab_type": "text"
      },
      "source": [
        "<a href=\"https://colab.research.google.com/github/sasha110110/574-/blob/main/3%D0%BA%20%D0%BA%D0%BB%D0%B0%D1%81%D1%81/01.02%20%D1%83%D0%B6%D0%B5%20%D1%84%D0%B5%D0%B2%D1%80%D0%B0%D0%BB%D1%8C))).ipynb\" target=\"_parent\"><img src=\"https://colab.research.google.com/assets/colab-badge.svg\" alt=\"Open In Colab\"/></a>"
      ]
    },
    {
      "cell_type": "markdown",
      "metadata": {
        "id": "0AbnBMEERmmO"
      },
      "source": [
        "Ребятки, на понедельник ничего! \r\n",
        "Отдыхаем, мы начнем новый раздел урока (по сути нам уже знаком)\r\n",
        "\r\n",
        "Обратим внимание! \r\n",
        "要 - yao4 - переводим как хотеть или надо. \r\n",
        "你要做什么？ Что тебе надо / что тебе хочется делать (в зависимсти от ситуации)\r\n",
        "要 + потом идет обычно глагол/(реже - существиетльное)  - все как в русском  - надо/хочу+ что-то делать\r\n",
        "\r\n",
        "  Слово ВКУСНЫЙ\r\n",
        "\r\n",
        "*   好喝 = 好 hao3 + 喝 he1 - говорим вкусный о напитке (хорошо+пить)\r\n",
        "*   好吃 = 好 hao3 + 吃 chi1 - говорим вкусный о еде (хорошо+ есть )\r\n",
        "\r\n",
        "\r\n",
        "Полный текст песни\r\n",
        "*   你**要**喝什么？\r\n",
        "我要喝果汁\r\n",
        "*   你要喝什么？\r\n",
        "我要喝牛奶\r\n",
        "*   你要喝什么？\r\n",
        "我要喝咖啡\r\n",
        "*   你要喝什么？\r\n",
        "我要喝可乐\r\n",
        "*   你要吃什么？\r\n",
        "我要吃面条\r\n",
        "*   你要吃什么？\r\n",
        "我要吃米饭\r\n",
        "*  你要吃什么？\r\n",
        "我要吃包子 \r\n",
        "*   你要吃什么？\r\n",
        "我要吃饺子\r\n",
        "*   很好喝， 我爱喝\r\n",
        "*   很好喝， 我爱喝 \r\n",
        "*   果汁，牛奶，  咖啡，  可乐\r\n",
        "*   我爱喝！\r\n",
        "\r\n",
        "\r\n",
        "*   很好吃，  我爱吃\r\n",
        "*   很好吃，  我爱吃\r\n",
        "*   面条， 米饭，， 包子， 饺子\r\n",
        "*   我爱吃！ \r\n",
        "\r\n",
        "\r\n",
        "Продукты\r\n",
        "*   米饭 mi3fan4 рис\r\n",
        "*   包子 bao1zi пампушки (большие булочки на пару)\r\n",
        "*   饺子 jiao3zi  пельмени\r\n",
        "*   面条 mian4tiao2  лапша (макароны и иже с ними)\r\n",
        "\r\n"
      ]
    }
  ]
}