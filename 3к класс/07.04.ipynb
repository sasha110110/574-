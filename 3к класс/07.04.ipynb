{
  "nbformat": 4,
  "nbformat_minor": 0,
  "metadata": {
    "colab": {
      "name": "Untitled6.ipynb",
      "provenance": [],
      "authorship_tag": "ABX9TyPyxGrP4AmGsaTJFWV4/h/M",
      "include_colab_link": true
    },
    "kernelspec": {
      "display_name": "Python 3",
      "name": "python3"
    }
  },
  "cells": [
    {
      "cell_type": "markdown",
      "metadata": {
        "id": "view-in-github",
        "colab_type": "text"
      },
      "source": [
        "<a href=\"https://colab.research.google.com/github/sasha110110/574-/blob/main/3%D0%BA%20%D0%BA%D0%BB%D0%B0%D1%81%D1%81/07.04.ipynb\" target=\"_parent\"><img src=\"https://colab.research.google.com/assets/colab-badge.svg\" alt=\"Open In Colab\"/></a>"
      ]
    },
    {
      "cell_type": "markdown",
      "metadata": {
        "id": "ADPY4KNNn20u"
      },
      "source": [
        "* Ребят, учебник и тетрадь. стр. 61 № 5 и стр. 46 № 6\n",
        "* Кроме того, слова вчера, сегодня, завтра должны от зубов отлетать По классике, как говорится, я вас ночью разбужу и вы должны мне ответить! "
      ]
    }
  ]
}