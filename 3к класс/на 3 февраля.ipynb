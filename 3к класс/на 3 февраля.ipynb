{
  "nbformat": 4,
  "nbformat_minor": 0,
  "metadata": {
    "colab": {
      "name": "21",
      "provenance": [],
      "authorship_tag": "ABX9TyPUldPWnkvIRr9Eyxv/Q2UW",
      "include_colab_link": true
    },
    "kernelspec": {
      "name": "python3",
      "display_name": "Python 3"
    }
  },
  "cells": [
    {
      "cell_type": "markdown",
      "metadata": {
        "id": "view-in-github",
        "colab_type": "text"
      },
      "source": [
        "<a href=\"https://colab.research.google.com/github/sasha110110/574-/blob/main/3%D0%BA%20%D0%BA%D0%BB%D0%B0%D1%81%D1%81/%D0%BD%D0%B0%203%20%D1%84%D0%B5%D0%B2%D1%80%D0%B0%D0%BB%D1%8F.ipynb\" target=\"_parent\"><img src=\"https://colab.research.google.com/assets/colab-badge.svg\" alt=\"Open In Colab\"/></a>"
      ]
    },
    {
      "cell_type": "markdown",
      "metadata": {
        "id": "0AbnBMEERmmO"
      },
      "source": [
        "Мои ребятки. \r\n",
        "Слов мало. Те, которые мы читали на уроке - учебник - новый урок “我要吃苹果”-кстати, как это перевести? Поэтому  к этому разу получше их выучите. На выходные будут задания из тетради и эти слова на диктант\r\n",
        "\r\n",
        "\r\n",
        "*   фрукт 水果 shui3guo3 = 水 вода +果 плод\r\n",
        "*   яблоко 苹果 ping2guo3\r\n",
        "*   лимонад, газировка 汽水 qi4shui3 = 汽 воздух + 水 вода\r\n",
        "*   сок 果汁 guo3zhi1 = 果плод + 汁 жидкость\r\n",
        "\r\n",
        "\r\n",
        "\r\n",
        "*   частица 呢 (ставится в конце предложения, означает обычно настоящий момент времени, что действие происходит сейчас. На следующем уроке посмотрим примеры)\r\n",
        "\r\n"
      ]
    }
  ]
}