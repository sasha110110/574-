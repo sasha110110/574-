{
  "nbformat": 4,
  "nbformat_minor": 0,
  "metadata": {
    "colab": {
      "name": "Untitled6.ipynb",
      "provenance": [],
      "authorship_tag": "ABX9TyNXgmiC9eoJbPL8IBt0E5ua",
      "include_colab_link": true
    },
    "kernelspec": {
      "display_name": "Python 3",
      "name": "python3"
    }
  },
  "cells": [
    {
      "cell_type": "markdown",
      "metadata": {
        "id": "view-in-github",
        "colab_type": "text"
      },
      "source": [
        "<a href=\"https://colab.research.google.com/github/sasha110110/574-/blob/main/3%D0%BA%20%D0%BA%D0%BB%D0%B0%D1%81%D1%81/19.04.ipynb\" target=\"_parent\"><img src=\"https://colab.research.google.com/assets/colab-badge.svg\" alt=\"Open In Colab\"/></a>"
      ]
    },
    {
      "cell_type": "markdown",
      "metadata": {
        "id": "2BKYIyEPDPua"
      },
      "source": [
        "Ребят! Новая песня. Пока слушаем. И хорошо прочитаем вместе слова в классе. \n",
        "И еще прошлая домашка остается - будем проверять. \n",
        "\n",
        "\n"
      ]
    },
    {
      "cell_type": "markdown",
      "metadata": {
        "id": "oKqJxj3aEfjr"
      },
      "source": [
        "![НТС 858.png](data:image/png;base64,iVBORw0KGgoAAAANSUhEUgAAAJwAAACcCAIAAAAF2lUaAAAAGXRFWHRTb2Z0d2FyZQBBZG9iZSBJbWFnZVJlYWR5ccllPAAAA3NpVFh0WE1MOmNvbS5hZG9iZS54bXAAAAAAADw/eHBhY2tldCBiZWdpbj0i77u/IiBpZD0iVzVNME1wQ2VoaUh6cmVTek5UY3prYzlkIj8+IDx4OnhtcG1ldGEgeG1sbnM6eD0iYWRvYmU6bnM6bWV0YS8iIHg6eG1wdGs9IkFkb2JlIFhNUCBDb3JlIDUuNS1jMDE0IDc5LjE1MTQ4MSwgMjAxMy8wMy8xMy0xMjowOToxNSAgICAgICAgIj4gPHJkZjpSREYgeG1sbnM6cmRmPSJodHRwOi8vd3d3LnczLm9yZy8xOTk5LzAyLzIyLXJkZi1zeW50YXgtbnMjIj4gPHJkZjpEZXNjcmlwdGlvbiByZGY6YWJvdXQ9IiIgeG1sbnM6eG1wTU09Imh0dHA6Ly9ucy5hZG9iZS5jb20veGFwLzEuMC9tbS8iIHhtbG5zOnN0UmVmPSJodHRwOi8vbnMuYWRvYmUuY29tL3hhcC8xLjAvc1R5cGUvUmVzb3VyY2VSZWYjIiB4bWxuczp4bXA9Imh0dHA6Ly9ucy5hZG9iZS5jb20veGFwLzEuMC8iIHhtcE1NOk9yaWdpbmFsRG9jdW1lbnRJRD0ieG1wLmRpZDo4NDM5M2FiZi1jOTY0LTQ5YjktYjE1Mi05YTQ2ZWI3MDliNjYiIHhtcE1NOkRvY3VtZW50SUQ9InhtcC5kaWQ6MDcxNzgxMkVGRjlBMTFFMzgyRjVDMjNGM0JEM0JDNjkiIHhtcE1NOkluc3RhbmNlSUQ9InhtcC5paWQ6MDcxNzgxMkRGRjlBMTFFMzgyRjVDMjNGM0JEM0JDNjkiIHhtcDpDcmVhdG9yVG9vbD0iQWRvYmUgUGhvdG9zaG9wIENDIChNYWNpbnRvc2gpIj4gPHhtcE1NOkRlcml2ZWRGcm9tIHN0UmVmOmluc3RhbmNlSUQ9InhtcC5paWQ6ODMxMTBhNzUtNTVhZi00NGVkLTliZDItMTY3ZDMxMTQ5NGMzIiBzdFJlZjpkb2N1bWVudElEPSJ4bXAuZGlkOjg0MzkzYWJmLWM5NjQtNDliOS1iMTUyLTlhNDZlYjcwOWI2NiIvPiA8L3JkZjpEZXNjcmlwdGlvbj4gPC9yZGY6UkRGPiA8L3g6eG1wbWV0YT4gPD94cGFja2V0IGVuZD0iciI/PiEzHwQAAAaYSURBVHja7J1bbBRlGIb3ON12t11hd8Ee2KaKECLWGzARkmpLgnihSKA11lIT1HohQUUuNCFeFKNeEBqjXIjQItoSlajVxCZWJSZWLmy4aAlUjT3S41J72tLdttv6dqcdlrX1gDDzz877XDWbnfm/7392dmb+79upeW35JRNJLCycAkollEoolVAqoVRKJZRKKJVQKqFUSiWUSiiVUCqhVEKplEoolVAqoVRCqZRKKJVQKqFUQqmEUimVUCqhVEKphFIplVAqoVRCqYRSCaVSKqFUQqmEUgmlGhqbaiNlL5cObPHdn+N0JRnrkxQMz5xrGz/8XaDjj0l1RjSr8xTRHI/08Z7sNIfVsEfPaCjyeGVH26AaXlU6aPYX+IxsFCB9TEJCnVPxrctT3eY7nAkl1Wjn0UVJkSwJJVVmKjJrTJ0qJ66qVGTW0h82lFg55US+T5Ws5ju90tcXRscnZ4xgFGkiWaRst5oTefEB6W27O+1041DrlcnENooEaxqHkKzKRk2arCghx6c3eWqbR+pbxhLVKFL7snnkmU0e1YVqJBUg05fyfc09oYqzgQS7eEI6SOpCb+jFfJ9Zoxi0vNPAzbhTsjx3umt4IpIYRpFIWU0XksJHVsMwNL59LNvsKVjjKjzRfrEvpHejSAGJbFnrQlLaRqL9mkDxhmXP53lLPuisbRrRr1EEjxT25nmRjubB2ESYkcdy3cl2y4HPe5p6Qq9uXWGzmHWkc3pm9s1vBj45P3x4R8ZD61JFCMkmyNRgOpLtWfvOdF/qC729K9PnsunCaCA4/cKZ7ot94aNFWXmrRVnfFmhJFpPyfnHWrwPhncfbz3dNiG8UQSJUBIywxTFqEq3zYaM/parEH56eLT3ViTt3kY1WNw4hSIR6crcfYQsVm3DFk3syHB+W+m9LsZbX9b9S24tZEy1ChITADtX1I0iEuj7dIVqEIlbE1qxIqn7Kn+G2f9E08kRVR/fwlDixIRiEhMAQHoJEqAJOoKBlzuzlEqYsxyPh5g/nrZ9ax0WICmEgGISEwBAeghRz9sStXae77fhyw6EwPBF5tqbrWMOghl/EGBoBIAwEg5AQGMITduqEbkjwumyYvtwMR2TWdOT7wL5PuzWp2WFQDI0AEEZu9JTvFfuOS/QuE3eytWq3/77sucvL+paxwhPtKtfsMBwGlQtKCAPBICTBJ00HrUNOyXKseNUDq13yFBdVtqtWs8NAGE7+GCEAhOGUdDBj+ugHc9jM7xZlyotwwfDcl+GtrtnJFTQMhOFM0QUvBIAwdDFdumnys1vNR3Zm7rjXLV+2vPfjYFnNrarZyRU0DCF/bDAohrZbdbMirafOTczqG4+ml2ycL4M0tI7vOn7za3bYIXbbsHATheEwqFVPJQa9/UAKc3tw20qlYHl5eKo4uhRws/Zf2zSCHV5eWO7AQBjObNIZNpMO2V/gcyVZcI+Bv0PRRbvm/12zkyto1T8PxY6iebnbEEeqAqb7tYevHUOQUXqqMxCcvrG9YUNsrhjFbrFznRo16fr3qcUblr21/drZTi6E3UDNLm5D7BC7FaGBwYhSwfZcd0XMdenAWPSA+y81u5poBQ0bxl5jY7e6nhbd/25p67rUo0VZDrtFOTUe+nc1O7mCVl7Xj03m74btFuxKkJYUQ0s1LbRMxP6w7h9rdkoFTXkFm4vWwGBoqaZoy8TJ61dl5Zpdw2I1O6WCpryCDQVsYDC6VLA+Pb5+Ii8MxdbsYitoytvkWpCADQyUOofSMqG8otTsguGZ2AqagsgNDMZafPgb5JaJPdVdsY/MqG8Z+/3K3I9E48p2OR6p8slVIpe7eaTOA0kf/eXgg844o+I3MFDqdXic8y0TS71BFw0MlBpPbMtEHHppYKDURZBbJh68yxX7oo4aGCh1cRw28zuFmcoikb4aGHj1uyTycu7Br3rx9+uP6KzcTalLIrdMmKI1NSNgM0aaRtFpiHOqMaFUSiWUSiiVUCqhVEollEoolVAqoVRK5RRQKqFUksBS5cdhGJyraj0ESiWp59rGKbVBrYfxqSS14mxgNBQxslGkj0lQZyyrN3+vCsMMXY18+0twZart9jS7ZDVUb8ncU/B++C348mc96vzzVJNq/xSX8OqXUCqhVEollEoolVAqoVRKJZRKKJVQKqFUQqmUSiiVUCqhVEKplEoolVAqoVRCqYRSKZVQKqFUQqmEUimVUCqhVEKphFIJpVIqoVRCqYRSCaVSKqFUQqlELf4UYACEUIelRJ2bqQAAAABJRU5ErkJggg==)"
      ]
    },
    {
      "cell_type": "markdown",
      "metadata": {
        "id": "JJ-y2_f0Fh-e"
      },
      "source": [
        "https://www.youtube.com/watch?v=MPHahcXGRHw&t=1s"
      ]
    },
    {
      "cell_type": "markdown",
      "metadata": {
        "id": "AK3tjq6f_qSW"
      },
      "source": [
        "* 今天我唱歌 jin1 tian1 wo3 chang4 ge1 Сегодня я пою песни, \n",
        "* 跳舞 tiao4 wu3 танцую\n",
        "* 玩游戏 wan2 you2 xi4  играю в игры\n",
        "* 今天我聊天 jin1 tian1 wo3 liao2 tian1  Сегодня я болтаю, \n",
        "* 画画 hua4 hua4  рисую картинки, \n",
        "* 看电视 kan4 dian4 shi4 смотрю телевизор\n",
        "* 昨天很不好 zuo2 tian2 hen3 bu4 hao3 Вчера было так плохо. \n",
        "* 今天我不会去学校 jin1 tian1 wo3 bu2 hui4 qu4 xue2 xiao4 А сегодня мне не надо идти в школу!"
      ]
    },
    {
      "cell_type": "markdown",
      "metadata": {
        "id": "zwMrK9wcC07R"
      },
      "source": [
        "* 会 hui4 - читается - хуэй4 и значит мочь, уметь, надо. \n",
        "* В песенке 不会 бу2 хуэй 4 в значении не надо \n"
      ]
    }
  ]
}