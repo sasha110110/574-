{
  "nbformat": 4,
  "nbformat_minor": 0,
  "metadata": {
    "colab": {
      "name": "21",
      "provenance": [],
      "authorship_tag": "ABX9TyNVy772az0Xayi1Smi+Dodr",
      "include_colab_link": true
    },
    "kernelspec": {
      "name": "python3",
      "display_name": "Python 3"
    }
  },
  "cells": [
    {
      "cell_type": "markdown",
      "metadata": {
        "id": "view-in-github",
        "colab_type": "text"
      },
      "source": [
        "<a href=\"https://colab.research.google.com/github/sasha110110/574-/blob/main/3%D0%BA%20%D0%BA%D0%BB%D0%B0%D1%81%D1%81/10.01%20hometask.ipynb\" target=\"_parent\"><img src=\"https://colab.research.google.com/assets/colab-badge.svg\" alt=\"Open In Colab\"/></a>"
      ]
    },
    {
      "cell_type": "markdown",
      "metadata": {
        "id": "0AbnBMEERmmO"
      },
      "source": [
        "Ребятки. домашнее задание) \r\n",
        "\r\n",
        "*   Мои сладкие, диктант был на перевод предложений. Да, это может показаться новым - но я даю только те фразы, которые вы можете сказать. \r\n",
        "*   Ребят, мы учим, чтобы говорить. Отдельные слова - это здорово, но вы уже все можете сказать. \r\n",
        "*   На следующий урок будет раота над ошибками по диктанту. \r\n",
        "Пока можно еще раз подумать, как сказать. кстати, возможны варианты):\r\n",
        "\r\n",
        "*   Что ты хочешь съесть?\r\n",
        "*   Яблоко. А ты? \r\n",
        "*   Чай очень вкусный\r\n",
        "*   Я люблю сок и лимонад. \r\n",
        "\r\n",
        "\r\n",
        "\r\n",
        "\r\n",
        "\r\n",
        "*   喜欢 xi3huan1 нравиться\r\n",
        "*   也 ye3 тоже, также (ставится перед лаголом)\r\n",
        "*   牛肉 niu2rou4 говядина \r\n",
        "*   米饭 mi3fan4 вареный рис\r\n",
        "*   海鲜 hai3 xian1 морепродукты (море+свежести=морские свежести)\r\n",
        "*   菜 cai4 овощи и вообще всяческая зелень\r\n",
        "*   鱼 yu2 рыба\r\n",
        "*   面条　mian4tiao2 лапша"
      ]
    }
  ]
}