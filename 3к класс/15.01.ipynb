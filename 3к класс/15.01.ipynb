{
  "nbformat": 4,
  "nbformat_minor": 0,
  "metadata": {
    "colab": {
      "name": "21",
      "provenance": [],
      "authorship_tag": "ABX9TyPxgjt4Br7hU0MBcYyR+V8A",
      "include_colab_link": true
    },
    "kernelspec": {
      "name": "python3",
      "display_name": "Python 3"
    }
  },
  "cells": [
    {
      "cell_type": "markdown",
      "metadata": {
        "id": "view-in-github",
        "colab_type": "text"
      },
      "source": [
        "<a href=\"https://colab.research.google.com/github/sasha110110/574-/blob/main/3%D0%BA%20%D0%BA%D0%BB%D0%B0%D1%81%D1%81/15.01.ipynb\" target=\"_parent\"><img src=\"https://colab.research.google.com/assets/colab-badge.svg\" alt=\"Open In Colab\"/></a>"
      ]
    },
    {
      "cell_type": "markdown",
      "metadata": {
        "id": "0AbnBMEERmmO"
      },
      "source": [
        "Ребятки. домашнее задание) \r\n",
        "\r\n",
        "*    по учебнику - стр. 54, номера 4,5 , \r\n",
        "стр 55 номер 6 и стр. 56 номер 7\r\n",
        "\r\n",
        "*   Песня послушать, вспомнить еду и выучить пару новых выражений\r\n",
        "\r\n",
        "\r\n",
        "*   https://www.youtube.com/watch?v=W53Cn19m3T0&list=PLVLl2O8ZpxGlfwbSPdzclWn-3GV9NpLM-&index=3\r\n",
        "*   Все фразы повторяются много раз… \r\n",
        "\r\n",
        "\r\n",
        "*   我想吃面条 wo3 xiang3  chi1 (я хочу (есть) лапшу) 我想wo3 xiang3  я хочу – обо всем угодно – я хочу спать, играть, бегать…\r\n",
        "*   叉烧包 cha1shao1 bao1 пампушки со свининой (叉cha1 – вилка (столовый прибор)烧shao1 разогревать) 包 – это наши знакомые 包子\r\n",
        "*   米饭 mi3fan4\r\n",
        "*  水饺 shui3 jiao3 –это другое название пельменей цзяоцзы 饺子 – водяные пельмени\r\n",
        "*   好好吃 hao2 hao3 chi1 очень очень вкусно \r\n",
        "*   好好吃hao2 hao3 chi1 очень очень вкусно \r\n",
        "\r\n",
        "*   吃饱了吗？chi1 bao3 le ma? 吃饱chi1 bao3 – наесться(饱bao3 – полный – то есть есть до полноты (желудка)\r\n",
        "\r\n",
        "\r\n"
      ]
    },
    {
      "cell_type": "code",
      "metadata": {
        "id": "HBOKnPLcLjts"
      },
      "source": [
        ""
      ],
      "execution_count": null,
      "outputs": []
    }
  ]
}