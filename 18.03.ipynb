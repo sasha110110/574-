{
  "nbformat": 4,
  "nbformat_minor": 0,
  "metadata": {
    "colab": {
      "name": "Untitled6.ipynb",
      "provenance": [],
      "authorship_tag": "ABX9TyPRv4Bg6rYWXuAuiPiVswWn",
      "include_colab_link": true
    },
    "kernelspec": {
      "name": "python3",
      "display_name": "Python 3"
    }
  },
  "cells": [
    {
      "cell_type": "markdown",
      "metadata": {
        "id": "view-in-github",
        "colab_type": "text"
      },
      "source": [
        "<a href=\"https://colab.research.google.com/github/sasha110110/574-/blob/main/18.03.ipynb\" target=\"_parent\"><img src=\"https://colab.research.google.com/assets/colab-badge.svg\" alt=\"Open In Colab\"/></a>"
      ]
    },
    {
      "cell_type": "markdown",
      "metadata": {
        "id": "gNQYsRLIC9tq"
      },
      "source": [
        "* Задание: пять предложений о вкусных и невкусных напитках.\r\n",
        "*хорошо хао3+питьхэ1 = хао3хэ1 - вкусный о напитках\r\n",
        "*хорощо хао3+есть чшы1 =хао3чшы1 - вкусный о еде \r\n",
        "* что-то + 很好喝  хэн3 хао3 хэ1 \r\n",
        "* что-то 不好和 бу4 хао3 хэ1\r\n",
        "* Пример: 可乐很好喝\r\n"
      ]
    },
    {
      "cell_type": "markdown",
      "metadata": {
        "id": "GIGaevyNF6Pe"
      },
      "source": [
        "Читать скороговорку, понимать каждое слово из нее! "
      ]
    }
  ]
}