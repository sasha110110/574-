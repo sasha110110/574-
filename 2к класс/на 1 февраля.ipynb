{
  "nbformat": 4,
  "nbformat_minor": 0,
  "metadata": {
    "colab": {
      "name": "21",
      "provenance": [],
      "authorship_tag": "ABX9TyOl3JKW6l3Qnr7GYZ+ozJhG",
      "include_colab_link": true
    },
    "kernelspec": {
      "name": "python3",
      "display_name": "Python 3"
    }
  },
  "cells": [
    {
      "cell_type": "markdown",
      "metadata": {
        "id": "view-in-github",
        "colab_type": "text"
      },
      "source": [
        "<a href=\"https://colab.research.google.com/github/sasha110110/574-/blob/main/2%D0%BA%20%D0%BA%D0%BB%D0%B0%D1%81%D1%81/%D0%BD%D0%B0%201%20%D1%84%D0%B5%D0%B2%D1%80%D0%B0%D0%BB%D1%8F.ipynb\" target=\"_parent\"><img src=\"https://colab.research.google.com/assets/colab-badge.svg\" alt=\"Open In Colab\"/></a>"
      ]
    },
    {
      "cell_type": "markdown",
      "metadata": {
        "id": "0AbnBMEERmmO"
      },
      "source": [
        "Мои ребятки. \r\n",
        "\r\n",
        "\r\n",
        "*   Спасибо вам за рассказы про животных - вы все молодцы - это было здорово - именно ИНТЕРЕСНЫЕ рассказы! и все такие разные! мне очень понравилось! МО-ЛОД-ЦЫ!!!!\r\n",
        "*   Маленькое замечание на грамматику - помним, что предложение - это существительное + что-то.\r\n",
        "\r\n",
        "\r\n",
        "*   Существительное + глагол  - Просто так и говорим, точно так, как в русском\r\n",
        "\r\n",
        "\r\n",
        "*   他蹦蹦跳， ta1 beng4beng4 tiao4 Он прыгает прыг-скок\r\n",
        "*   我来了 wo3 lai2 le Я вошла\r\n",
        "*   他走了 ta1 zou3 le Он ушел\r\n",
        "\r\n",
        "\r\n",
        "*   Существитетльное + прилагательное\r\n",
        "Если прилагательное - просто добавляем слово 很 (как в английском слово is) Вообще,  很 hen3- значит очень, но здесь просто помогает существительному дружить с определением - чтобы они вместе стояли в предложении. \r\n",
        "\r\n",
        "*   他很高 ta1 hen3 gao1 Он высокий (Он есть высокий)\r\n",
        "*   眼睛很小 yan3jing  hen2 xiao 3 Глаза маленькие (Глаза есть маленькие)\r\n",
        "*   他很白 ta1 hen3 bai2 Он белый (Он есть белый)\r\n",
        "\r\n",
        "\r\n",
        "*   В разговорной речи допустимо все что угодно, можно без связки, но мы пока учим правилную грамматику. \r\n",
        "\r\n",
        "\r\n",
        "\r\n",
        "\r\n",
        "\r\n",
        "\r\n",
        "\r\n",
        "\r\n",
        "\r\n"
      ]
    }
  ]
}