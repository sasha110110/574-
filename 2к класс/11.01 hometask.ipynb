{
  "nbformat": 4,
  "nbformat_minor": 0,
  "metadata": {
    "colab": {
      "name": "21",
      "provenance": [],
      "authorship_tag": "ABX9TyP6vsjlK6AbY/ept4Q4gIrL",
      "include_colab_link": true
    },
    "kernelspec": {
      "name": "python3",
      "display_name": "Python 3"
    }
  },
  "cells": [
    {
      "cell_type": "markdown",
      "metadata": {
        "id": "view-in-github",
        "colab_type": "text"
      },
      "source": [
        "<a href=\"https://colab.research.google.com/github/sasha110110/574-/blob/main/2%D0%BA%20%D0%BA%D0%BB%D0%B0%D1%81%D1%81/11.01%20hometask.ipynb\" target=\"_parent\"><img src=\"https://colab.research.google.com/assets/colab-badge.svg\" alt=\"Open In Colab\"/></a>"
      ]
    },
    {
      "cell_type": "markdown",
      "metadata": {
        "id": "0AbnBMEERmmO"
      },
      "source": [
        "Ребятки. домашнее задание) \r\n",
        "\r\n",
        "*   Мои сладкие, диктант был на перевод предложений. Да, это может показаться новым - но я даю только те фразы, которые вы можете сказать. \r\n",
        "*   Ребят, мы учим, чтобы говорить. Отдельные слова - это здорово, но вы уже все можете сказать. \r\n",
        "*   На следующий урок будет работа над ошибками по диктанту (если понадобится) \r\n",
        "\r\n",
        "\r\n",
        "\r\n",
        "*   Маааленькое задание по учебнику - стр. 29, номер 9 \r\n",
        "\r\n",
        "*   На следующем уроке вспомним животных и споем про них песню) \r\n",
        "\r\n",
        "\r\n"
      ]
    }
  ]
}