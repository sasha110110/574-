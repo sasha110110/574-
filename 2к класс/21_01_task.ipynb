{
  "nbformat": 4,
  "nbformat_minor": 0,
  "metadata": {
    "colab": {
      "name": "7 класс",
      "provenance": [],
      "authorship_tag": "ABX9TyOin3k4sXkKA1BSReP4S9Bg",
      "include_colab_link": true
    },
    "kernelspec": {
      "name": "python3",
      "display_name": "Python 3"
    }
  },
  "cells": [
    {
      "cell_type": "markdown",
      "metadata": {
        "id": "view-in-github",
        "colab_type": "text"
      },
      "source": [
        "<a href=\"https://colab.research.google.com/github/sasha110110/574-/blob/main/2%D0%BA%20%D0%BA%D0%BB%D0%B0%D1%81%D1%81/21_01_task.ipynb\" target=\"_parent\"><img src=\"https://colab.research.google.com/assets/colab-badge.svg\" alt=\"Open In Colab\"/></a>"
      ]
    },
    {
      "cell_type": "markdown",
      "metadata": {
        "id": "WS9UOhNDrcJs"
      },
      "source": [
        "#задание на 21.01\r\n",
        "**В понедельник диктантик))))Ура!!!! мы этого так ждали! Выучить на диктант слова**\r\n",
        "\r\n",
        "К четвергу перевести предложения. \r\n",
        "\r\n",
        "\r\n",
        "\r\n",
        "*   Эта рыбка коричневая, а не красная\r\n",
        "*   Светофор\r\n",
        "*   Это моя комната. Пожалуйста, входи.\r\n",
        "*   В комнате мамы есть большой диван. \r\n",
        "\r\n",
        "Предложений мало, вы все знаете сами. и быстро все сделаете САМИ.\r\n",
        "Можно написать в пиньине!  Главное правильно читать и знать, какое  слово что значит!\r\n",
        "\r\n",
        "\r\n",
        "\r\n"
      ]
    }
  ]
}