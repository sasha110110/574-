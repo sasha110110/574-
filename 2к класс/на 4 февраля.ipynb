{
  "nbformat": 4,
  "nbformat_minor": 0,
  "metadata": {
    "colab": {
      "name": "21",
      "provenance": [],
      "authorship_tag": "ABX9TyOtApCa4TAc44qlpc9kO+fj",
      "include_colab_link": true
    },
    "kernelspec": {
      "name": "python3",
      "display_name": "Python 3"
    }
  },
  "cells": [
    {
      "cell_type": "markdown",
      "metadata": {
        "id": "view-in-github",
        "colab_type": "text"
      },
      "source": [
        "<a href=\"https://colab.research.google.com/github/sasha110110/574-/blob/main/2%D0%BA%20%D0%BA%D0%BB%D0%B0%D1%81%D1%81/%D0%BD%D0%B0%204%20%D1%84%D0%B5%D0%B2%D1%80%D0%B0%D0%BB%D1%8F.ipynb\" target=\"_parent\"><img src=\"https://colab.research.google.com/assets/colab-badge.svg\" alt=\"Open In Colab\"/></a>"
      ]
    },
    {
      "cell_type": "markdown",
      "metadata": {
        "id": "0AbnBMEERmmO"
      },
      "source": [
        "Мои ребятки. \r\n",
        "Слова, которые мы читали на уроке из новой темы - что же у меня там интересненького в портфеле) \r\n",
        "\r\n",
        "\r\n",
        "*   книга \r\n",
        "*   тетрадка\r\n",
        "*   ручка\r\n",
        "*   может, что-нибудь вкусненькое? \r\n",
        "\r\n"
      ]
    }
  ]
}