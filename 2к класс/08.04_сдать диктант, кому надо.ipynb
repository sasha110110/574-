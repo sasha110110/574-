{
  "nbformat": 4,
  "nbformat_minor": 0,
  "metadata": {
    "colab": {
      "name": "Untitled6.ipynb",
      "provenance": [],
      "authorship_tag": "ABX9TyM+K2PcwWULgQdFu1pwGMeh",
      "include_colab_link": true
    },
    "kernelspec": {
      "display_name": "Python 3",
      "name": "python3"
    }
  },
  "cells": [
    {
      "cell_type": "markdown",
      "metadata": {
        "id": "view-in-github",
        "colab_type": "text"
      },
      "source": [
        "<a href=\"https://colab.research.google.com/github/sasha110110/574-/blob/main/2%D0%BA%20%D0%BA%D0%BB%D0%B0%D1%81%D1%81/08.04_%D1%81%D0%B4%D0%B0%D1%82%D1%8C%20%D0%B4%D0%B8%D0%BA%D1%82%D0%B0%D0%BD%D1%82%2C%20%D0%BA%D0%BE%D0%BC%D1%83%20%D0%BD%D0%B0%D0%B4%D0%BE.ipynb\" target=\"_parent\"><img src=\"https://colab.research.google.com/assets/colab-badge.svg\" alt=\"Open In Colab\"/></a>"
      ]
    },
    {
      "cell_type": "markdown",
      "metadata": {
        "id": "ADPY4KNNn20u"
      },
      "source": [
        "* Ребят, работа над ошиками - чтобы я поставила нормальные оценки \n",
        "Делают кто не был и кто не разобрался. \n",
        "* Остальные их немного ждут. И на всякий случай проверяют, все ли они еще помнят.  \n",
        "* Вместо звездочки надо вписать ОДИН иероглиф или пиньинь\n",
        "* 1. Что ты ешь? 你吃**?\n",
        "* 2. Я не ем рис, я ем лапшу. 我不吃.\\**， 我吃**。\n",
        "* 3. Мясо не вкусное.肉很***。\n",
        "* 4. Баоцзы большие. Пельмени маленькие. 包子很*。 ****。\n",
        "* 5. Я буду рыбный суп. 我吃**。\n",
        "* 6. Моя кошка не ест рыбу.  ** 不吃鱼。"
      ]
    }
  ]
}