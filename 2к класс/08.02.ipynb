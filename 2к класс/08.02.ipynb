{
  "nbformat": 4,
  "nbformat_minor": 0,
  "metadata": {
    "colab": {
      "name": "21",
      "provenance": [],
      "authorship_tag": "ABX9TyMbbrget9iTBzizFIdYAy2t",
      "include_colab_link": true
    },
    "kernelspec": {
      "name": "python3",
      "display_name": "Python 3"
    }
  },
  "cells": [
    {
      "cell_type": "markdown",
      "metadata": {
        "id": "view-in-github",
        "colab_type": "text"
      },
      "source": [
        "<a href=\"https://colab.research.google.com/github/sasha110110/574-/blob/main/2%D0%BA%20%D0%BA%D0%BB%D0%B0%D1%81%D1%81/08.02.ipynb\" target=\"_parent\"><img src=\"https://colab.research.google.com/assets/colab-badge.svg\" alt=\"Open In Colab\"/></a>"
      ]
    },
    {
      "cell_type": "markdown",
      "metadata": {
        "id": "0AbnBMEERmmO"
      },
      "source": [
        "Мои ребятки. \r\n",
        "Новые слова - на диктант - знать в иероглифике, тон и пиньинь \r\n",
        "\r\n",
        "*   书包\r\n",
        "*   书\r\n",
        "*   笔\r\n",
        "*   本子\r\n",
        "*   橡皮\r\n",
        "\r\n",
        "\r\n",
        "\r\n",
        "\r\n",
        "*   Письменное задание - Рассказ о том, что у меня в портфеле и какого цвета, кокаго размера (большое, маленькое - 大小)- \r\n",
        "*   книга \r\n",
        "*   тетрадка\r\n",
        "*   ручка\r\n",
        "\r\n",
        "Написать, уметь хорошо это читать. \r\n",
        "\r\n",
        "\r\n",
        "*   Грамматика: \r\n",
        "У меня в потрфеле \r\n",
        "\r\n",
        "* 我（的）书包 里 li3 有 \r\n",
        "* Мой портфель - внутри - имеется.\r\n",
        "*   Складываем фразу, как кубики - не надо думать, как в русском о падежах. Мой + портфель + внутри + имеется + перечисление всего. \r\n",
        "*   Например, 我的书包里有大红色的本子/ У меня в портфеле есть большая красная тетрадь. \r\n",
        "\r\n",
        "*   Если возможно, на следующей неделе принести платежные квитанции. Мне сдал пока только Максим. Большое спасибо!)))) Мне очень-очень приятно. \r\n",
        "\r\n",
        "\r\n",
        "\r\n",
        "\r\n",
        "\r\n",
        "\r\n",
        "\r\n",
        "\r\n"
      ]
    }
  ]
}