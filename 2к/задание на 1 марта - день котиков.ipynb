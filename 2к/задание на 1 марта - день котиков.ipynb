{
  "nbformat": 4,
  "nbformat_minor": 0,
  "metadata": {
    "colab": {
      "name": "р.ipynb",
      "provenance": [],
      "authorship_tag": "ABX9TyONXiXT81F4GBPW+oxbGMwq",
      "include_colab_link": true
    },
    "kernelspec": {
      "name": "python3",
      "display_name": "Python 3"
    }
  },
  "cells": [
    {
      "cell_type": "markdown",
      "metadata": {
        "id": "view-in-github",
        "colab_type": "text"
      },
      "source": [
        "<a href=\"https://colab.research.google.com/github/sasha110110/574-/blob/main/2%D0%BA/%D0%B7%D0%B0%D0%B4%D0%B0%D0%BD%D0%B8%D0%B5%20%D0%BD%D0%B0%201%20%D0%BC%D0%B0%D1%80%D1%82%D0%B0%20-%20%D0%B4%D0%B5%D0%BD%D1%8C%20%D0%BA%D0%BE%D1%82%D0%B8%D0%BA%D0%BE%D0%B2.ipynb\" target=\"_parent\"><img src=\"https://colab.research.google.com/assets/colab-badge.svg\" alt=\"Open In Colab\"/></a>"
      ]
    },
    {
      "cell_type": "markdown",
      "metadata": {
        "id": "xlZq88QL-ksa"
      },
      "source": [
        "\r\n",
        "\r\n",
        "*   Счетные слова – \r\n",
        "В китайском грамматика минимальна!\r\n",
        "\r\n",
        "*   Единственное необычное – счетные слова \r\n",
        "\r\n",
        "*   То есть, если мы говорим, сколько чего-то \r\n",
        "\r\n",
        "*   Обязательно надо говорить так: \r\n",
        "\r\n",
        "*   ЧИСЛО  + ШТУК + СУЩЕСТВИТЕЛЬНОЕ \r\n",
        "\r\n",
        "*   В русском тоже есть такое – например, одна буханка хлеба, две банки варенья и т.д. \r\n",
        "*  Но у нас можно сказать «два друга» или «три огурца» в китайском – нет. \r\n",
        "* Обязательно всегда будет «Две штуки друга» , «три штуки огурца».\r\n",
        "* Счетные слова разные для разных предметов (Понятно: мы же тоже не говорим «одна буханка варенья»)\r\n",
        "* Их в китайском >50!!!\r\n",
        "* Универсальное счетное слово для всего – 个 ge4 \r\n",
        "* 把 ba3 для предметов, у которых есть ручка – например, один нож 一把刀子 yi4  ba3 dao1 zi\r\n",
        "* 本 ben3 для книг, тетрадей, всего, у чего есть переплет три тетрадки 三本本子 san1 ben3 ben3zi \r\n",
        "* 支zhi1 для длинных тонких предметов  5 кисточек 五支毛笔 wu3  zhi1  mao2 bi3（шерсть 毛mao2+ручка 笔bi3=кисточка 毛笔mao2 bi3）\r\n",
        "\r\n",
        "* **Задание – посмотреть текст песни про рюкзак, выписать счетные слова с существительными. **\r\n",
        "\r\n",
        "\r\n",
        "\r\n",
        "\r\n"
      ]
    }
  ]
}