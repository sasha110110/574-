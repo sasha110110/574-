{
  "nbformat": 4,
  "nbformat_minor": 0,
  "metadata": {
    "colab": {
      "name": "7 класс",
      "provenance": [],
      "authorship_tag": "ABX9TyOGY47e65gThqcTrrAgQXEG",
      "include_colab_link": true
    },
    "kernelspec": {
      "name": "python3",
      "display_name": "Python 3"
    }
  },
  "cells": [
    {
      "cell_type": "markdown",
      "metadata": {
        "id": "view-in-github",
        "colab_type": "text"
      },
      "source": [
        "<a href=\"https://colab.research.google.com/github/sasha110110/574-/blob/main/3%20%D0%BA%D0%BB%D0%B0%D1%81%D1%81/20.01_task.ipynb\" target=\"_parent\"><img src=\"https://colab.research.google.com/assets/colab-badge.svg\" alt=\"Open In Colab\"/></a>"
      ]
    },
    {
      "cell_type": "markdown",
      "metadata": {
        "id": "WS9UOhNDrcJs"
      },
      "source": [
        "#задание на 20.01\r\n",
        "**Выучить на диктант слова**\r\n",
        "\r\n",
        "\r\n",
        "\r\n",
        "*   есть\r\n",
        "*   пить\r\n",
        "*   утро\r\n",
        "*   молоко\r\n",
        "*   кофе\r\n",
        "\r\n",
        "Уметь их писать, помнить тон и пиньинь\r\n",
        "\r\n",
        "Начнем новый урок=) \r\n",
        "\r\n",
        "\r\n",
        "\r\n",
        "\r\n",
        "\r\n"
      ]
    }
  ]
}