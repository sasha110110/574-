{
  "nbformat": 4,
  "nbformat_minor": 0,
  "metadata": {
    "colab": {
      "name": "7 класс",
      "provenance": [],
      "authorship_tag": "ABX9TyOxfuRk6+mHtnxv5qa5tf3/",
      "include_colab_link": true
    },
    "kernelspec": {
      "name": "python3",
      "display_name": "Python 3"
    }
  },
  "cells": [
    {
      "cell_type": "markdown",
      "metadata": {
        "id": "view-in-github",
        "colab_type": "text"
      },
      "source": [
        "<a href=\"https://colab.research.google.com/github/sasha110110/574-/blob/main/7%20%D0%BA%D0%BB%D0%B0%D1%81%D1%81/19-01_task.ipynb\" target=\"_parent\"><img src=\"https://colab.research.google.com/assets/colab-badge.svg\" alt=\"Open In Colab\"/></a>"
      ]
    },
    {
      "cell_type": "markdown",
      "metadata": {
        "id": "WS9UOhNDrcJs"
      },
      "source": [
        "#19.01\r\n",
        "**Урок 4**\r\n",
        "\r\n",
        "\r\n",
        "*   стр. 54 - 55 диалог\r\n",
        "*   стр. 55 - новые слова  - читать"
      ]
    }
  ]
}