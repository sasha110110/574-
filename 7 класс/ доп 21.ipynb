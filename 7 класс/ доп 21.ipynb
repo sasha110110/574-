{
  "nbformat": 4,
  "nbformat_minor": 0,
  "metadata": {
    "colab": {
      "name": "21",
      "provenance": [],
      "authorship_tag": "ABX9TyNHHDvehOtRhwsGR5TWylDM",
      "include_colab_link": true
    },
    "kernelspec": {
      "name": "python3",
      "display_name": "Python 3"
    }
  },
  "cells": [
    {
      "cell_type": "markdown",
      "metadata": {
        "id": "view-in-github",
        "colab_type": "text"
      },
      "source": [
        "<a href=\"https://colab.research.google.com/github/sasha110110/574-/blob/main/7%20%D0%BA%D0%BB%D0%B0%D1%81%D1%81/%20%D0%B4%D0%BE%D0%BF%2021.ipynb\" target=\"_parent\"><img src=\"https://colab.research.google.com/assets/colab-badge.svg\" alt=\"Open In Colab\"/></a>"
      ]
    },
    {
      "cell_type": "markdown",
      "metadata": {
        "id": "1HQAky69lIJv"
      },
      "source": [
        "Повторить грамматические конструкции \r\n",
        "\r\n",
        "\r\n",
        "1.   离\r\n",
        "2.   了\r\n",
        "\r\n",
        "\r\n",
        "\r\n"
      ]
    }
  ]
}